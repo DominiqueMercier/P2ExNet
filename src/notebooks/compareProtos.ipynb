{
 "cells": [
  {
   "cell_type": "code",
   "execution_count": 2,
   "metadata": {},
   "outputs": [],
   "source": [
    "import matplotlib.pyplot as plt\n",
    "import numpy as np\n",
    "import os \n",
    "\n",
    "path = \"saved_model/character_trajectories/char_l3_p3_interpretable\"\n",
    "prototypes = np.load(os.path.join(path, 'prototypes.npy'), allow_pickle=True)"
   ]
  },
  {
   "cell_type": "code",
   "execution_count": 3,
   "metadata": {},
   "outputs": [],
   "source": [
    "def compare_all_plots(path, prototypes):\n",
    "    for i in range(prototypes.shape[0]):\n",
    "        compare_plots(path, prototypes, i)\n",
    "\n",
    "def trim_to_length(series, l):\n",
    "    if series.shape[0] == l:\n",
    "        return series\n",
    "    elif series.shape[0] > l:\n",
    "        return series[:l]\n",
    "    else:\n",
    "        diff = series.shape[0] - l\n",
    "        to_fill = np.zeros((diff, series.shape[1]))\n",
    "        series = np.vstack([series, to_fill])  \n",
    "        return series\n",
    "        \n",
    "def compare_plots(path, prototypes, base):\n",
    "    compare = np.delete(np.arange(prototypes.shape[0]), base)\n",
    "    n_rows = compare.shape[0]\n",
    "    g, b = plt.subplots(n_rows, 4, figsize=(10, 2*n_rows))\n",
    "    norm_base = (prototypes[base] - prototypes[base].min()) / (prototypes[base].max() - prototypes[base].min())\n",
    "    for i, comp in enumerate(compare):\n",
    "        norm_compare = (prototypes[comp] - prototypes[comp].min()) / (prototypes[comp].max() - prototypes[comp].min())\n",
    "        \n",
    "        len_bc = np.min([norm_base.shape[0], norm_compare.shape[0]])\n",
    "        diff = trim_to_length(norm_base, len_bc) - trim_to_length(norm_compare, len_bc)\n",
    "        \n",
    "        if i == 0:\n",
    "            norm_avg = norm_compare\n",
    "        else:\n",
    "            len_ac = np.min([norm_avg.shape[0], norm_compare.shape[0]])\n",
    "            norm_avg = trim_to_length(norm_avg, len_ac) + trim_to_length(norm_compare, len_ac)\n",
    "        \n",
    "        b[i][0].plot(norm_base)\n",
    "        b[i][1].plot(norm_compare)\n",
    "        b[i][2].plot(diff)\n",
    "        \n",
    "        b[i][0].set_title('Prototype: %s' % (base))\n",
    "        b[i][1].set_title('Prototype: %s' % (comp))\n",
    "        b[i][2].set_title('Diff to sample')\n",
    "        \n",
    "    len_ab = np.min([norm_base.shape[0], norm_avg.shape[0]])\n",
    "    diff_mean = trim_to_length(norm_base, len_ab) - (trim_to_length(norm_avg, len_ab) / len(compare))\n",
    "    for i in range(len(compare)):\n",
    "        b[i][3].set_title('Diff to all')\n",
    "        b[i][3].plot(diff_mean)\n",
    "    \n",
    "    plt.subplots_adjust(wspace=0.4, hspace=0.5)\n",
    "    if not path is None:\n",
    "        img_path = os.path.join(path, 'prototypes_compare')\n",
    "        if not os.path.exists(img_path):\n",
    "            os.makedirs(img_path)\n",
    "        plt.savefig(os.path.join(img_path, 'prototype_' + str(base) + '.png'), \n",
    "                    dpi=90, bbox_inches='tight', pad_inches=0.1)\n",
    "        plt.close()\n",
    "    else:\n",
    "        plt.show()"
   ]
  },
  {
   "source": [
    "Compare the prototypes to understand the differences."
   ],
   "cell_type": "markdown",
   "metadata": {}
  },
  {
   "cell_type": "code",
   "execution_count": 35,
   "metadata": {},
   "outputs": [],
   "source": [
    "compare_all_plots(path, prototypes)"
   ]
  }
 ],
 "metadata": {
  "kernelspec": {
   "display_name": "Python 3",
   "language": "python",
   "name": "python3"
  },
  "language_info": {
   "codemirror_mode": {
    "name": "ipython",
    "version": 3
   },
   "file_extension": ".py",
   "mimetype": "text/x-python",
   "name": "python",
   "nbconvert_exporter": "python",
   "pygments_lexer": "ipython3",
   "version": "3.6.10-final"
  }
 },
 "nbformat": 4,
 "nbformat_minor": 2
}