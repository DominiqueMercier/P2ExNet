{
 "cells": [
  {
   "source": [
    "Method to compute the receptive field for the network. It is important to know it for the back-projection of the prototype patches."
   ],
   "cell_type": "markdown",
   "metadata": {}
  },
  {
   "cell_type": "code",
   "execution_count": 1,
   "metadata": {},
   "outputs": [
    {
     "output_type": "stream",
     "name": "stdout",
     "text": [
      "Initial:\n\t n features: 206 \n \t jump: 1 \n \t receptive size: 1 \n \t start: 1 \nLayer 0\n\t n features: 103 \n \t jump: 2 \n \t receptive size: 3 \n \t start: 2.0 \nLayer 1\n\t n features: 52 \n \t jump: 4 \n \t receptive size: 7 \n \t start: 2.0 \nLayer 2\n\t n features: 26 \n \t jump: 8 \n \t receptive size: 15 \n \t start: 6.0 \n"
     ]
    }
   ],
   "source": [
    "import math\n",
    "\n",
    "def get_receptive_parameter(n_input_steps, widths, strides, paddings):\n",
    "    # [filter size, stride, padding]\n",
    "    #Assume the two dimensions are the same\n",
    "    #Each kernel requires the following parameters:\n",
    "    # - k_i: kernel size\n",
    "    # - s_i: stride\n",
    "    # - p_i: padding (if padding is uneven, right padding will higher than left padding; \"SAME\" option in tensorflow)\n",
    "    # \n",
    "    #Each layer i requires the following parameters to be fully represented: \n",
    "    # - n_i: number of feature (data layer has n_1 = imagesize )\n",
    "    # - j_i: distance (projected to image pixel distance) between center of two adjacent features\n",
    "    # - r_i: receptive field of a feature in layer i\n",
    "    # - start_i: position of the first feature's receptive field in layer i (idx start from 0, negative means the center fall into padding)\n",
    "    \n",
    "    def outFromIn(conv, layerIn):\n",
    "        n_in = layerIn[0]\n",
    "        j_in = layerIn[1]\n",
    "        r_in = layerIn[2]\n",
    "        start_in = layerIn[3]\n",
    "        k = conv[0]\n",
    "        s = conv[1]\n",
    "        p = conv[2]\n",
    "\n",
    "        n_out = math.floor((n_in - k + 2*p)/s) + 1\n",
    "        actualP = (n_out-1)*s - n_in + k \n",
    "        pR = math.ceil(actualP/2)\n",
    "        pL = math.floor(actualP/2)\n",
    "\n",
    "        j_out = j_in * s\n",
    "        r_out = r_in + (k - 1)*j_in\n",
    "        start_out = start_in + ((k-1)/2 - pL)*j_in\n",
    "        return n_out, j_out, r_out, start_out\n",
    "    \n",
    "    net = []\n",
    "    for i in range(len(widths)):\n",
    "        net.append([widths[i], strides[i], paddings[i]])\n",
    "    currentLayer = [n_input_steps, 1, 1, 1]\n",
    "    \n",
    "    print(\"Initial:\")\n",
    "    print(\"\\t n features: %s \\n \\t jump: %s \\n \\t receptive size: %s \\n \\t start: %s \" % (currentLayer[0], currentLayer[1], currentLayer[2], currentLayer[3]))\n",
    "\n",
    "    for i in range(len(net)):\n",
    "        currentLayer = outFromIn(net[i], currentLayer)\n",
    "        \n",
    "        print(\"Layer \" + str(i))\n",
    "        print(\"\\t n features: %s \\n \\t jump: %s \\n \\t receptive size: %s \\n \\t start: %s \" % (currentLayer[0], currentLayer[1], currentLayer[2], currentLayer[3]))\n",
    "\n",
    "get_receptive_parameter(206, [3,3,3], [2,2,2], [1,1,1])"
   ]
  }
 ],
 "metadata": {
  "kernelspec": {
   "display_name": "Python 3",
   "language": "python",
   "name": "python3"
  },
  "language_info": {
   "codemirror_mode": {
    "name": "ipython",
    "version": 3
   },
   "file_extension": ".py",
   "mimetype": "text/x-python",
   "name": "python",
   "nbconvert_exporter": "python",
   "pygments_lexer": "ipython3",
   "version": "3.6.10-final"
  }
 },
 "nbformat": 4,
 "nbformat_minor": 2
}